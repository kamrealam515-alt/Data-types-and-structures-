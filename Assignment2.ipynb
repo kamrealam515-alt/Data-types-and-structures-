{
  "nbformat": 4,
  "nbformat_minor": 0,
  "metadata": {
    "colab": {
      "provenance": []
    },
    "kernelspec": {
      "name": "python3",
      "display_name": "Python 3"
    },
    "language_info": {
      "name": "python"
    }
  },
  "cells": [
    {
      "cell_type": "markdown",
      "source": [
        "# Assignment 2: Data Types and Structures"
      ],
      "metadata": {
        "id": "oZMNe7BnTZvx"
      }
    },
    {
      "cell_type": "markdown",
      "source": [
        "1.\n",
        "What are data structures, and why are they important ?\n",
        "\n",
        "Data structures are organized ways to store, manage, and retrieve data efficiently in a computer.\n",
        ">Importance of Data Structure :\n",
        "\n",
        ">>Efficient Data Management :Help organize large amounts of data so it's easy to access andmodify.\n",
        "\n",
        ">>Faster Searching & Sorting: Certain data structures allow faster operations.\n",
        "\n",
        ">>Memory Optimization: Help reduce memory usage by using optimal storage formats.\n",
        "\n",
        ">>Foundation for Algorithms: Most algorithms rely on data structures to work correctly andefficiently.\n",
        "\n",
        ">>Real-world Problem Solving: Useful in tasks like file systems, databases, social networks, etc.\n",
        "\n",
        ">>Helps in Decision Making: Choosing the right data structure can improve performance drastically."
      ],
      "metadata": {
        "id": "D18DkO9mTbsQ"
      }
    },
    {
      "cell_type": "markdown",
      "source": [
        "2.\n",
        "Explain the difference between mutable and immutable data types with examples\n",
        "\n",
        ">>Mutable:\n",
        "\n",
        ">>>Objects that can be changed after they are created.\n",
        "No new memory location is created\n",
        "\n",
        ">Example :list, dict, set\n",
        "\n",
        ">>Immutable:\n",
        "\n",
        ">>>Objects that cannot be changed after they are created.\n",
        "\n",
        ">>>Creation of new memory location at any changes\n",
        "\n",
        ">Examples: int, float, str, tuple"
      ],
      "metadata": {
        "id": "4CMmMuv_Tj3X"
      }
    },
    {
      "cell_type": "markdown",
      "source": [
        "3.\n",
        "What are the main differences between lists and tuples in Python ?\n",
        "\n",
        ">Difference between List and tuple\n",
        "\n",
        ">>1.\n",
        "Mutability: Lists are mutable whereas tuples are immutable.\n",
        "\n",
        ">>This means you can change, add, or remove elements in a list, but you cannot modify a tuple after it's created.\n",
        "\n",
        ">>2.\n",
        "Syntax: Lists use square brackets [ ], whereas tuples use parentheses ( ).\n",
        "This means you define a list like [1, 2, 3] and a tuple like (1, 2, 3).\n",
        "\n",
        ">>3.\n",
        "Methods Available: Lists have many built-in methods, whereas tuples\n",
        "have very few.\n",
        "\n",
        ">>This means you can modify a list using methods like append(), pop(), or sort(), but tuples only support count()and index().\n",
        "\n",
        ">>4.\n",
        "Performance: Tuples are faster in performance than lists. This is because tuples are immutable and require less overhead, making them more efficient in fixed-size dataoperations.\n",
        "\n",
        ">>5.\n",
        "Memory Usage: Tuples use less memory than lists. Since tuples are fixed in size, they consume less memory than dynamic lists."
      ],
      "metadata": {
        "id": "xEGglpMUTo9n"
      }
    },
    {
      "cell_type": "markdown",
      "source": [
        "4.\n",
        "Describe how dictionaries store data.\n",
        "\n",
        ">A dictionary in Python is a collection of key-value pairs, where each key is unique and is used to access its corresponding value.\n",
        "\n",
        ">Dictionaries store data:\n",
        "\n",
        ">>A dictionary stores data as key-value pairs.\n",
        "\n",
        ">>The key is used to identify the data.\n",
        "\n",
        ">>The value is the data associated with that key.\n",
        "\n",
        ">>It allows for quick access, update, and deletion of data using keys."
      ],
      "metadata": {
        "id": "qMsfs1wQTuBX"
      }
    },
    {
      "cell_type": "markdown",
      "source": [
        "5.\n",
        "Why might you use a set instead of a list in Python ?\n",
        "\n",
        ">Reasons to use set instead of list :\n",
        "\n",
        ">>1.\n",
        "No duplicate elements : A set automatically removes duplicates, while a list can store them.\n",
        "\n",
        ">>2.\n",
        "Faster lookups : Checking if an element exists in a set (in operation) is generally O(1), compared to O(n) for a list.\n",
        "\n",
        ">>3.\n",
        "Unordered collection : If you don’t care about the order of elements, sets are more efficient.\n",
        "\n",
        ">>4.\n",
        "Mathematical operations : Sets support union, intersection, and difference operations directly.\n",
        "\n",
        ">>5.\n",
        "Better for uniqueness checks : When you need only unique items, sets avoid manual duplicate removal."
      ],
      "metadata": {
        "id": "7PYuRdoKT1du"
      }
    },
    {
      "cell_type": "markdown",
      "source": [
        "6.\n",
        "What is a string in Python, and how is it different from a list ?\n",
        "\n",
        ">String: A string is a sequence of characters. Python treats anything inside quotes as a string. This includes letters, numbers,and symbols. Python has no character data type so single character is a string of length 1.\n",
        "\n",
        "String different from list:\n",
        "\n",
        ">>1.\n",
        "Data Type : A string stores only characters, while a list can store elements of any data type (numbers,strings, objects, etc.).\n",
        "\n",
        ">>2.\n",
        "Mutability : Strings are immutable, whereas lists are mutable .\n",
        "\n",
        ">>3.\n",
        "Element Type : Strings can contain only characters, but lists can have mixed data types.\n",
        "\n",
        ">>4.\n",
        "Modification : You cannot directly change a character in a string, but you can change, add, or removeelements in a list.\n",
        "\n",
        ">>5.\n",
        "Operations : Strings have text-specific methods (upper(), replace(), split()), while lists have collection-specific methods (append(), remove(), sort()).\n",
        "\n",
        ">>6.\n",
        "Representation : Strings are written inside quotes (' ', \" \"), while lists are written inside square brackets [ ].\n",
        "\n",
        ">>7.\n",
        "Usage : Strings are used for text data, while lists are used for storing a sequence of items."
      ],
      "metadata": {
        "id": "W1YdMW2yT5qu"
      }
    },
    {
      "cell_type": "markdown",
      "source": [
        "7.\n",
        "How do tuples ensure data integrity in Python ?\n",
        "\n",
        ">Tuples ensure data integrity in Python mainly because they are immutable.\n",
        "Other reasons tuples ensure data integrity:\n",
        ">>1.\n",
        "Prevents accidental changes : Since tuples can’t be modified, your data stays exactly as it was when created.\n",
        ">>2.\n",
        "Reliable as constants : Tuples can store fixed data (like configuration values) that must remain the same throughout theprogram.\n",
        "\n",
        ">>3.\n",
        "Safe for keys in dictionaries : Their immutability allows them to be used as dictionary keys or stored in sets without riskof being altered.\n",
        "\n",
        ">>4.\n",
        "Predictable behavior : No unexpected changes in tuple data make debugging and tracking logic easier.\n",
        "\n",
        ">>5.\n",
        "Thread-safety : In multi-threaded programs, immutable data structures like tuples reduce the chance of data corruptionfrom concurrent modifications."
      ],
      "metadata": {
        "id": "9PMkzKL9UAAe"
      }
    },
    {
      "cell_type": "markdown",
      "source": [
        "8.\n",
        "What is a hash table, and how does it relate to dictionaries in Python ?\n",
        "\n",
        ">A hash table is a data structure that stores key–value pairs and uses a hash function to map each key to a specific index(bucket) in memory.\n",
        "Relation of Hashtable to dictionaries :\n",
        "\n",
        ">>1.\n",
        "In Python, a dictionary (dict) is implemented using a hash table.\n",
        "\n",
        ">>2.\n",
        "Keys in a dictionary are hashed internally, and their hash values decide where the corresponding values arestored in memory.\n",
        "\n",
        ">>3.\n",
        "Only immutable and hashable objects can be used as dictionary keys.\n",
        "\n",
        ">>4.\n",
        "Hash tables let dictionaries perform very fast lookups, even with large amounts of data."
      ],
      "metadata": {
        "id": "W9ocv3QSUEY-"
      }
    },
    {
      "cell_type": "code",
      "source": [
        "my_dict = {\"name\": \"Kamre Alam\", \"age\": 27}\n",
        "# \"name\" is hashed internally → value 27 stored at a memory bucket\n",
        "print(my_dict[\"name\"]) # Output: Alice"
      ],
      "metadata": {
        "colab": {
          "base_uri": "https://localhost:8080/"
        },
        "id": "MOMbNegJUOpl",
        "outputId": "85a75ab9-3ed4-442f-8ad7-ef33a64770bc"
      },
      "execution_count": 2,
      "outputs": [
        {
          "output_type": "stream",
          "name": "stdout",
          "text": [
            "Kamre Alam\n"
          ]
        }
      ]
    },
    {
      "cell_type": "markdown",
      "source": [
        "9.\n",
        "Can lists contain different data types in Python ?\n",
        "\n",
        ">Yes, lists in Python can contain different data types in the same list.\n",
        "\n",
        ">A list can hold integers, floats, strings, booleans, objects, even other lists — all mixed together.\n",
        "\n",
        ">This is possible because Python lists are dynamic and store references to objects, not fixed-type elements."
      ],
      "metadata": {
        "id": "vVec_TGDUl3U"
      }
    },
    {
      "cell_type": "code",
      "source": [
        "my_list = [10, \"Hello\", 3.14, True, [1, 2, 3]]\n",
        "print(my_list)"
      ],
      "metadata": {
        "colab": {
          "base_uri": "https://localhost:8080/"
        },
        "id": "HYD7Mrw8UsRM",
        "outputId": "9759ac7c-04b7-4985-9378-8d1e002cf2de"
      },
      "execution_count": 3,
      "outputs": [
        {
          "output_type": "stream",
          "name": "stdout",
          "text": [
            "[10, 'Hello', 3.14, True, [1, 2, 3]]\n"
          ]
        }
      ]
    },
    {
      "cell_type": "markdown",
      "source": [
        "10.\n",
        "Explain why strings are immutable in Python .\n",
        "\n",
        ">Reasons String are immutable:\n",
        "\n",
        ">>1.\n",
        "Memory efficiency : Immutability allows Python to reuse identical string objects (string interning), saving memory.\n",
        "\n",
        ">>2.\n",
        "Hash consistency : Strings must stay unchanged so their hash value remains constant when used as dictionary or setkeys.\n",
        "\n",
        ">>3.\n",
        "Thread-safety : Because strings can’t be modified, they can be shared between threads without risk of corruption.\n",
        "\n",
        ">>4.\n",
        "Predictable behavior : Fixed, unchangeable strings prevent accidental changes, making code more reliable.\n",
        "\n",
        ">>5.\n",
        "Performance optimization : Immutable strings can be stored and accessed in a way that speeds up certain operations."
      ],
      "metadata": {
        "id": "KnoBa00vUyTD"
      }
    },
    {
      "cell_type": "markdown",
      "source": [
        "11.\n",
        "What advantages do dictionaries offer over lists for certain tasks ?\n",
        "\n",
        ">Advantages do dictionaries offer over lists for certain tasks are:\n",
        "\n",
        ">>1.\n",
        "Faster lookups : Dictionaries provide average O(1) time complexity for accessing values by key, while lists take O(n) forsearches.\n",
        "\n",
        ">>2.\n",
        "Key-based access : You can access data using meaningful keys instead of relying on numeric indexes.\n",
        "\n",
        ">>3.\n",
        "No need for manual searching : Values are retrieved directly by key without iterating through the entire collection.\n",
        "\n",
        ">>4.\n",
        "Unordered but organized : Data is stored in a way that’s easy to manage when you care about associations rather thanorder.\n",
        "\n",
        ">>5.\n",
        "Flexible keys and values : Keys can be any immutable type (string, number, tuple), and values can be any data type.\n",
        "\n",
        ">>6.\n",
        "Clear mapping of data : Perfect for storing real-world data with a clear “label → value” relationship.\n"
      ],
      "metadata": {
        "id": "ZX2GMwC5U60L"
      }
    },
    {
      "cell_type": "code",
      "source": [
        "# List of [name, phone] pairs\n",
        "contacts_list = [[\"Alice\", \"1234\"], [\"Bob\", \"5678\"], [\"Charlie\", \"9101\"]]\n",
        "# Find Bob's number\n",
        "for name, phone in contacts_list:\n",
        "  if name == \"Bob\":\n",
        "    print(phone) # Output: 5678\n",
        "    break\n",
        "# Dictionary of name: phone pairs\n",
        "contacts_dict = {\"Alice\": \"1234\", \"Bob\": \"5678\", \"Charlie\": \"9101\"}\n",
        "# Find Bob's number\n",
        "print(contacts_dict[\"Bob\"]) # Output: 5678"
      ],
      "metadata": {
        "colab": {
          "base_uri": "https://localhost:8080/"
        },
        "id": "SlNdbfc-U8kb",
        "outputId": "77f65d1c-0f4d-4b7a-8912-3f40c69f8dc3"
      },
      "execution_count": 4,
      "outputs": [
        {
          "output_type": "stream",
          "name": "stdout",
          "text": [
            "5678\n",
            "5678\n"
          ]
        }
      ]
    },
    {
      "cell_type": "markdown",
      "source": [
        "Difference : Time Complexity of Dictionary is O(1) where as list is O(n)."
      ],
      "metadata": {
        "id": "W0ZR2vplVPEi"
      }
    },
    {
      "cell_type": "markdown",
      "source": [
        "12.\n",
        "Describe a scenario where using a tuple would be preferable over a list.\n",
        "\n",
        ">Scenario:\n",
        "\n",
        ">>Storing fixed GPS coordinates of a city in a program.\n",
        "\n",
        "Example:"
      ],
      "metadata": {
        "id": "fxmEzE_zVRZC"
      }
    },
    {
      "cell_type": "code",
      "source": [
        "# Latitude and Longitude of New York\n",
        "new_york_coordinates = (40.7128, -74.0060)\n"
      ],
      "metadata": {
        "id": "f_n8hGx6VUqa"
      },
      "execution_count": 5,
      "outputs": []
    },
    {
      "cell_type": "markdown",
      "source": [
        ">Why tuple is preferable:\n",
        "\n",
        ">>1.\n",
        "The coordinates should never change during the program’s execution → tuples are immutable, ensuring data integrity.\n",
        "\n",
        ">>2.\n",
        "Tuples can be used as dictionary keys if you need to store location-based data (lists cannot be keys).\n",
        "\n",
        ">>3.\n",
        "Slightly faster than lists for access, making them efficient for fixed datasets."
      ],
      "metadata": {
        "id": "g5UT4th1VfDR"
      }
    },
    {
      "cell_type": "markdown",
      "source": [
        "13.\n",
        "How do sets handle duplicate values in Python ?\n",
        "\n",
        ">Sets automatically remove duplicate values because they only store unique elements.\n",
        "\n",
        ">When you try to add a duplicate to a set, Python ignores it silently.\n",
        "This is possible because sets use a hash table internally, where each element’s hash value must be unique."
      ],
      "metadata": {
        "id": "RfhioMdSsUAP"
      }
    },
    {
      "cell_type": "code",
      "source": [
        "my_set = {1, 2, 2, 3, 3, 3}\n",
        "print(my_set)"
      ],
      "metadata": {
        "colab": {
          "base_uri": "https://localhost:8080/"
        },
        "id": "aKIwEcQyVjdR",
        "outputId": "d67a491e-14cd-4e3d-b45b-f8bad50b4258"
      },
      "execution_count": 6,
      "outputs": [
        {
          "output_type": "stream",
          "name": "stdout",
          "text": [
            "{1, 2, 3}\n"
          ]
        }
      ]
    },
    {
      "cell_type": "markdown",
      "source": [
        "14.\n",
        "How does the “in” keyword work differently for lists and dictionaries ?\n",
        "\n",
        "The in keyword behaves differently for lists and dictionaries in Python:\n",
        "\n",
        "1. For lists \"in\" checks if a value exists anywhere in the list."
      ],
      "metadata": {
        "id": "m76qUF7cVrHS"
      }
    },
    {
      "cell_type": "code",
      "source": [
        "numbers = [1, 2, 3, 4]\n",
        "print(3 in numbers) #(checks values)\n",
        "print(5 in numbers)"
      ],
      "metadata": {
        "colab": {
          "base_uri": "https://localhost:8080/"
        },
        "id": "rUlOtLaPVsxh",
        "outputId": "5d8b1484-71ea-43f7-c4e9-a87d16517657"
      },
      "execution_count": 7,
      "outputs": [
        {
          "output_type": "stream",
          "name": "stdout",
          "text": [
            "True\n",
            "False\n"
          ]
        }
      ]
    },
    {
      "cell_type": "markdown",
      "source": [
        "2. For dictionaries – in checks if a key exists in the dictionary (not the value)."
      ],
      "metadata": {
        "id": "jfoeXSNqVzZg"
      }
    },
    {
      "cell_type": "code",
      "source": [
        "person = {\"name\": \"Mahtab Ansari\", \"age\": 26}\n",
        "print(\"name\" in person) # checks keys\n",
        "print(\"Mahtab Ansari\" in person) # does not check values"
      ],
      "metadata": {
        "colab": {
          "base_uri": "https://localhost:8080/"
        },
        "id": "L-ZtubUgV1Rw",
        "outputId": "e39757b7-e45c-453c-90cc-eeb21ec245e0"
      },
      "execution_count": 8,
      "outputs": [
        {
          "output_type": "stream",
          "name": "stdout",
          "text": [
            "True\n",
            "False\n"
          ]
        }
      ]
    },
    {
      "cell_type": "markdown",
      "source": [
        "15.\n",
        "Can you modify the elements of a tuple? Explain why or why not .\n",
        "\n",
        ">No we cannot modify the elements of a tuple in Python.\n",
        "Reason:\n",
        "1. Tuples are immutable, meaning once they are created, their elements cannot be changed, added, or removed.\n",
        "2. This immutability ensures data integrity, allows tuples to be used as dictionary keys or stored in sets, and makes themmore memory-efficient and thread-safe."
      ],
      "metadata": {
        "id": "DCVp69z1Y3Sh"
      }
    },
    {
      "cell_type": "code",
      "source": [
        "t = (1, 2, 3)\n",
        "t[0] = 10 # TypeError: 'tuple' object does not support item assignment"
      ],
      "metadata": {
        "colab": {
          "base_uri": "https://localhost:8080/",
          "height": 159
        },
        "id": "YpThFi6-Y4bg",
        "outputId": "c66ef9af-3d81-469f-f557-cd0ac058703d"
      },
      "execution_count": 9,
      "outputs": [
        {
          "output_type": "error",
          "ename": "TypeError",
          "evalue": "'tuple' object does not support item assignment",
          "traceback": [
            "\u001b[0;31m---------------------------------------------------------------------------\u001b[0m",
            "\u001b[0;31mTypeError\u001b[0m                                 Traceback (most recent call last)",
            "\u001b[0;32m/tmp/ipython-input-3798015013.py\u001b[0m in \u001b[0;36m<cell line: 0>\u001b[0;34m()\u001b[0m\n\u001b[1;32m      1\u001b[0m \u001b[0mt\u001b[0m \u001b[0;34m=\u001b[0m \u001b[0;34m(\u001b[0m\u001b[0;36m1\u001b[0m\u001b[0;34m,\u001b[0m \u001b[0;36m2\u001b[0m\u001b[0;34m,\u001b[0m \u001b[0;36m3\u001b[0m\u001b[0;34m)\u001b[0m\u001b[0;34m\u001b[0m\u001b[0;34m\u001b[0m\u001b[0m\n\u001b[0;32m----> 2\u001b[0;31m \u001b[0mt\u001b[0m\u001b[0;34m[\u001b[0m\u001b[0;36m0\u001b[0m\u001b[0;34m]\u001b[0m \u001b[0;34m=\u001b[0m \u001b[0;36m10\u001b[0m \u001b[0;31m# TypeError: 'tuple' object does not support item assignment\u001b[0m\u001b[0;34m\u001b[0m\u001b[0;34m\u001b[0m\u001b[0m\n\u001b[0m",
            "\u001b[0;31mTypeError\u001b[0m: 'tuple' object does not support item assignment"
          ]
        }
      ]
    },
    {
      "cell_type": "markdown",
      "source": [
        "16.\n",
        "What is a nested dictionary, and give an example of its use case ?\n",
        ">Nested Dictionary:\n",
        "\n",
        ">>1.\n",
        "A nested dictionary is a dictionary that contains another dictionary as one or more of its values.\n",
        "\n",
        ">>2.\n",
        "It’s used to store hierarchical or structured data in a compact, organized way.\n"
      ],
      "metadata": {
        "id": "_14C3k9EZKGf"
      }
    },
    {
      "cell_type": "code",
      "source": [
        "# Example of usecase\n",
        "students = {\"Mahtab Ansari\": {\"age\": 26, \"marks\": {\"Math\": 90, \"Science\": 85}},\"Bob\": {\"age\": 22, \"marks\": {\"Math\": 78, \"Science\": 88}}}\n",
        "# Access Bob's Science marks\n",
        "print(students[\"Bob\"][\"marks\"][\"Science\"])"
      ],
      "metadata": {
        "colab": {
          "base_uri": "https://localhost:8080/"
        },
        "id": "oNyJwVJnZLJX",
        "outputId": "c919d078-fd0d-4eb5-9441-2ca75439f869"
      },
      "execution_count": 12,
      "outputs": [
        {
          "output_type": "stream",
          "name": "stdout",
          "text": [
            "88\n"
          ]
        }
      ]
    },
    {
      "cell_type": "markdown",
      "source": [
        "17.\n",
        "Describe the time complexity of accessing elements in a dictionary.\n",
        "\n",
        ">Accessing elements in a dictionary in Python has:\n",
        "\n",
        ">1. Average case: O(1) : Constant time, because dictionaries use a hash table for key lookups.\n",
        "2. Worst case: O(n) : Happens rarely, only when many keys have the same hash value (hash collision) and Python has tosearch through them linearly."
      ],
      "metadata": {
        "id": "M0nEzqEkZjKW"
      }
    },
    {
      "cell_type": "code",
      "source": [
        "person = {\"name\": \"Mahtab Ansari\", \"age\": 26}\n",
        "print(person[\"age\"]) # O(1) average time"
      ],
      "metadata": {
        "colab": {
          "base_uri": "https://localhost:8080/"
        },
        "id": "wrrUmRckZo21",
        "outputId": "afd0443c-fec2-4f2c-f668-5e740b19e05b"
      },
      "execution_count": 13,
      "outputs": [
        {
          "output_type": "stream",
          "name": "stdout",
          "text": [
            "26\n"
          ]
        }
      ]
    },
    {
      "cell_type": "markdown",
      "source": [
        "18.\n",
        "In what situations are lists preferred over dictionaries ?\n",
        "\n",
        ">Situations where lists are preferred over dictionaries:\n",
        "\n",
        ">1. Order matters : When you need to preserve and work with the sequence of elements.\n",
        "2. No key-value mapping needed : When you only care about storing values, not associating them with unique keys.\n",
        "3. Allow duplicates : When you need to store the same value multiple times.\n",
        "4. Index-based access : When elements are best accessed by their position (index) rather than by a key.\n",
        "5. Small datasets : For small collections where the speed benefit of a dictionary is negligible.\n",
        "6. Iteration over values : When you want to loop through elements directly without worrying about keys."
      ],
      "metadata": {
        "id": "CYkoKALqZ1YN"
      }
    },
    {
      "cell_type": "code",
      "source": [
        "fruits = [\"apple\", \"banana\", \"orange\", \"banana\"]\n",
        "print(fruits[1])"
      ],
      "metadata": {
        "colab": {
          "base_uri": "https://localhost:8080/"
        },
        "id": "9trc1kJ3Z2Od",
        "outputId": "064f2269-6d98-4bb1-c500-c7eb149b1438"
      },
      "execution_count": 14,
      "outputs": [
        {
          "output_type": "stream",
          "name": "stdout",
          "text": [
            "banana\n"
          ]
        }
      ]
    },
    {
      "cell_type": "markdown",
      "source": [
        "19.\n",
        "Why are dictionaries considered unordered, and how does that affect data retrieval ?\n",
        "\n",
        ">Dictionaries are considered unordered:\n",
        "\n",
        ">1. Before Python 3.7, dictionaries did not guarantee that elements would be stored or iterated in the order they wereinserted.\n",
        "2. This is because dictionaries are implemented using a hash table, where the storage location of each key-value pairdepends on the key’s hash value, not its position.\n",
        "\n",
        ">Effect on data retrieval:\n",
        "\n",
        ">1. Key-based retrieval is unaffected we can always access a value directly using its key in O(1) time, regardless of order.\n",
        "2. However, iteration order was unpredictable in older versions of Python, meaning looping over a dictionary could produceelements in any sequence.\n",
        "3. From Python 3.7+, insertion order is preserved as an implementation detail but retrieval by key is still independent oforder."
      ],
      "metadata": {
        "id": "pt1iMDvgZ8Rk"
      }
    },
    {
      "cell_type": "markdown",
      "source": [
        "20.\n",
        "Explain the difference between a list and a dictionary in terms of data retrieval.\n",
        ">Difference between a list and a dictionary in terms of data retrieval:\n",
        "\n",
        ">1. List : Retrieval is index-based\n",
        "We access elements using their position (0, 1, 2, …).\n",
        "Time complexity: O(1) for direct index access, but O(n) if you search for a value."
      ],
      "metadata": {
        "id": "aYdihd5AZ_4d"
      }
    },
    {
      "cell_type": "code",
      "source": [
        "fruits = [\"apple\", \"banana\", \"cherry\"]\n",
        "print(fruits[1])\n"
      ],
      "metadata": {
        "colab": {
          "base_uri": "https://localhost:8080/"
        },
        "id": "Zj9sykIxaETM",
        "outputId": "68ee84c6-e25a-4471-dbeb-b0b47e763c09"
      },
      "execution_count": 15,
      "outputs": [
        {
          "output_type": "stream",
          "name": "stdout",
          "text": [
            "banana\n"
          ]
        }
      ]
    },
    {
      "cell_type": "markdown",
      "source": [
        "2. Dictionary : Retrieval is key-based\n",
        "We access values using unique keys, not positions.\n",
        "Time complexity: O(1) on average because of hashing.\n"
      ],
      "metadata": {
        "id": "zm7pI08maMFz"
      }
    },
    {
      "cell_type": "code",
      "source": [
        "person = {\"name\": \"Mahtab Ansari\", \"age\": 26}\n",
        "print(person[\"age\"])"
      ],
      "metadata": {
        "colab": {
          "base_uri": "https://localhost:8080/"
        },
        "id": "QmaMzZEYaM6s",
        "outputId": "6140460b-e2ef-416b-98e2-b5d1c230c004"
      },
      "execution_count": 16,
      "outputs": [
        {
          "output_type": "stream",
          "name": "stdout",
          "text": [
            "26\n"
          ]
        }
      ]
    },
    {
      "cell_type": "markdown",
      "source": [
        "# Practical Questions:"
      ],
      "metadata": {
        "id": "jT2cRVzNaZLr"
      }
    },
    {
      "cell_type": "code",
      "source": [
        "# Q1. Create a string with your name and print it\n",
        "Kamre_name = \"Kamre Alam\"\n",
        "print(f\"Kamre writes his name: {Kamre_name}\", )\n",
        "print(\"Kamre says: Hello, my name is\",Kamre_name)"
      ],
      "metadata": {
        "colab": {
          "base_uri": "https://localhost:8080/"
        },
        "id": "An7v0xSXaqdq",
        "outputId": "8e08a474-f06f-4e59-ec3a-872353d31585"
      },
      "execution_count": 20,
      "outputs": [
        {
          "output_type": "stream",
          "name": "stdout",
          "text": [
            "Kamre writes his name: Kamre Alam\n",
            "Kamre says: Hello, my name is Kamre Alam\n"
          ]
        }
      ]
    },
    {
      "cell_type": "code",
      "source": [
        "# Q2. Find the length of the string \"Hello World\"\n",
        "message = \"Hello World\"\n",
        "print(\"Kamre's secret message\", message)\n",
        "print(\"message length:\", len(message))"
      ],
      "metadata": {
        "colab": {
          "base_uri": "https://localhost:8080/"
        },
        "id": "rwv-eiz1bwXg",
        "outputId": "ffe3eb86-f313-4323-c935-cc254823e966"
      },
      "execution_count": 21,
      "outputs": [
        {
          "output_type": "stream",
          "name": "stdout",
          "text": [
            "Kamre's secret message Hello World\n",
            "message length: 11\n"
          ]
        }
      ]
    },
    {
      "cell_type": "code",
      "source": [
        "# Q3. Write a code to slice the first 3 characters from the string \"Python Programming\"\n",
        "homework = \"Python Programming\"\n",
        "first_three = homework[:3]\n",
        "print(\"Kamre's homework:\", homework)\n",
        "print(\"First three letters Kamre wrote:\", first_three)"
      ],
      "metadata": {
        "colab": {
          "base_uri": "https://localhost:8080/"
        },
        "id": "yuCpl6bWb9q-",
        "outputId": "c273adf1-c779-4c40-cd98-e5146b555d4b"
      },
      "execution_count": 22,
      "outputs": [
        {
          "output_type": "stream",
          "name": "stdout",
          "text": [
            "Kamre's homework: Python Programming\n",
            "First three letters Kamre wrote: Pyt\n"
          ]
        }
      ]
    },
    {
      "cell_type": "code",
      "source": [
        "# Q4. Write a code to convert the string \"hello\" to uppercase\n",
        "secret_word = \"hello\"\n",
        "print(\"Kamre's secret word\", secret_word)\n",
        "print(\"Kamre shouts:\", secret_word.upper())"
      ],
      "metadata": {
        "colab": {
          "base_uri": "https://localhost:8080/"
        },
        "id": "gW8CaVeTcItW",
        "outputId": "d6fc9e15-90f9-4a03-a838-381feb9e2b83"
      },
      "execution_count": 23,
      "outputs": [
        {
          "output_type": "stream",
          "name": "stdout",
          "text": [
            "Kamre's secret word hello\n",
            "Kamre shouts: HELLO\n"
          ]
        }
      ]
    },
    {
      "cell_type": "code",
      "source": [
        "# Q5. Write a code to replace the word \"apple\" with \"orange\" in the string \"I like apple\"\n",
        "sentence = \"I like apple\"\n",
        "new_sentence = sentence.replace(\"apple\", \"orange\")\n",
        "print(\"Kamre first said:\", sentence)\n",
        "print(\"Kamre changed her mind now says:\", new_sentence)"
      ],
      "metadata": {
        "colab": {
          "base_uri": "https://localhost:8080/"
        },
        "id": "FXu7kSqvcUpe",
        "outputId": "46154165-0e29-4087-bfd1-78e74142d70c"
      },
      "execution_count": 24,
      "outputs": [
        {
          "output_type": "stream",
          "name": "stdout",
          "text": [
            "Kamre first said: I like apple\n",
            "Kamre changed her mind now says: I like orange\n"
          ]
        }
      ]
    },
    {
      "cell_type": "code",
      "source": [
        "# Q6. Write a code to create a list with numbers 1 to 5 and print it.\n",
        "# Anya collecting stella stars\n",
        "stella_stars = []\n",
        "for star in range (1,6):\n",
        "  stella_stars.append(star)\n",
        "print(\" Kamre's Stella stars collection:\", stella_stars)"
      ],
      "metadata": {
        "colab": {
          "base_uri": "https://localhost:8080/"
        },
        "id": "6G4jgcZxcjIm",
        "outputId": "016ead62-c74f-4d42-dd3f-d4871e900fda"
      },
      "execution_count": 26,
      "outputs": [
        {
          "output_type": "stream",
          "name": "stdout",
          "text": [
            " Kamre's Stella stars collection: [1, 2, 3, 4, 5]\n"
          ]
        }
      ]
    },
    {
      "cell_type": "code",
      "source": [
        "# Q7. Write a code to append the number 10 to the list [1, 2, 3, 4]\n",
        "Kamre_counting = [1, 2, 3, 4]\n",
        "Kamre_counting.append(10)\n",
        "print(\"Kamre counting numbers:\", Kamre_counting)\n",
        "print(\"Kamre says: Hehe... I'm a math genius!!\")"
      ],
      "metadata": {
        "colab": {
          "base_uri": "https://localhost:8080/"
        },
        "id": "TW_6wGSocyXU",
        "outputId": "b68bc494-dcd4-4fa1-966c-fa4fc088299b"
      },
      "execution_count": 27,
      "outputs": [
        {
          "output_type": "stream",
          "name": "stdout",
          "text": [
            "Kamre counting numbers: [1, 2, 3, 4, 10]\n",
            "Kamre says: Hehe... I'm a math genius!!\n"
          ]
        }
      ]
    },
    {
      "cell_type": "code",
      "source": [
        "# Q8. Write a code to remove the number 3 from the list [1, 2, 3, 4, 5]\n",
        "Kamre_list =  [1, 2, 3, 4, 5]\n",
        "Kamre_list.remove(3) # Anya kicked out 3\n",
        "print(\"Kamre's list:\", Kamre_list)\n",
        "print(\"Kamre's says: Hehehe... I erased 3 like magic!\")"
      ],
      "metadata": {
        "colab": {
          "base_uri": "https://localhost:8080/"
        },
        "id": "qI-QCQz4dJx0",
        "outputId": "71a057d5-ea28-4215-eeab-c563c7f33e23"
      },
      "execution_count": 28,
      "outputs": [
        {
          "output_type": "stream",
          "name": "stdout",
          "text": [
            "Kamre's list: [1, 2, 4, 5]\n",
            "Kamre's says: Hehehe... I erased 3 like magic!\n"
          ]
        }
      ]
    },
    {
      "cell_type": "code",
      "source": [
        "# Q9. Write a code to access the second element in the list ['a', 'b', 'c', 'd']\n",
        "Kamre_list = ['a', 'b', 'c', 'd']\n",
        "print(\"Kamre peeks into the list \")\n",
        "print(\"Second element is:\", Kamre_list[1])"
      ],
      "metadata": {
        "colab": {
          "base_uri": "https://localhost:8080/"
        },
        "id": "4cAcTeEOddCC",
        "outputId": "90f2461e-9b95-41d6-a203-eaa945e9942d"
      },
      "execution_count": 29,
      "outputs": [
        {
          "output_type": "stream",
          "name": "stdout",
          "text": [
            "Kamre peeks into the list \n",
            "Second element is: b\n"
          ]
        }
      ]
    },
    {
      "cell_type": "code",
      "source": [
        "# Q10. Write a code to reverse the list [10, 20, 30, 40, 50]\n",
        "Kamre_list = [10, 20, 30, 40, 50]\n",
        "Kamre_list.reverse()\n",
        "print(\"Kamre flips the list upside down!\\nReversed list:\", Kamre_list)\n"
      ],
      "metadata": {
        "colab": {
          "base_uri": "https://localhost:8080/"
        },
        "id": "YOcAZhfVdyTS",
        "outputId": "6f50de0f-a6ce-4836-9c93-1581f3a13f44"
      },
      "execution_count": 30,
      "outputs": [
        {
          "output_type": "stream",
          "name": "stdout",
          "text": [
            "Kamre flips the list upside down!\n",
            "Reversed list: [50, 40, 30, 20, 10]\n"
          ]
        }
      ]
    },
    {
      "cell_type": "code",
      "source": [
        "# Q11. Write a code to create a tuple with the elements 100, 200, 300 and print it\n",
        "tuple = (100, 200, 300)\n",
        "print(\"Tuple:\",tuple)"
      ],
      "metadata": {
        "colab": {
          "base_uri": "https://localhost:8080/"
        },
        "id": "68do53Dqd7VR",
        "outputId": "fefc3448-175e-4900-ab9c-dc2605a813eb"
      },
      "execution_count": 31,
      "outputs": [
        {
          "output_type": "stream",
          "name": "stdout",
          "text": [
            "Tuple: (100, 200, 300)\n"
          ]
        }
      ]
    },
    {
      "cell_type": "code",
      "source": [
        "# Q12. Write a code to access the second-to-last element of the tuple ('red', 'green', 'blue', 'yellow')\n",
        "colors = ('red', 'green', 'blue', 'yellow')\n",
        "second_last = colors[-2]\n",
        "print(\"Kamre's candy colors\", colors)\n",
        "print(\"kamre picks second-to-last color:\", second_last)"
      ],
      "metadata": {
        "colab": {
          "base_uri": "https://localhost:8080/"
        },
        "id": "PuGQd9v6d_Jp",
        "outputId": "3851f2a6-99c7-4bd8-cee9-914e934a7ef0"
      },
      "execution_count": 32,
      "outputs": [
        {
          "output_type": "stream",
          "name": "stdout",
          "text": [
            "Kamre's candy colors ('red', 'green', 'blue', 'yellow')\n",
            "kamre picks second-to-last color: blue\n"
          ]
        }
      ]
    },
    {
      "cell_type": "code",
      "source": [
        "# Q13. Write a code to find the minimum number in the tuple (10, 20, 5, 15)\n",
        "marks = (10, 20, 5, 15)\n",
        "lowest_marks = min(marks)\n",
        "print(f\"Kamre's exam marks {marks}\\nKamre finds the lowest marks {lowest_marks} \")"
      ],
      "metadata": {
        "colab": {
          "base_uri": "https://localhost:8080/"
        },
        "id": "xsdovcILeMRY",
        "outputId": "db805579-6eb6-4889-e127-b213cf8d630a"
      },
      "execution_count": 33,
      "outputs": [
        {
          "output_type": "stream",
          "name": "stdout",
          "text": [
            "Kamre's exam marks (10, 20, 5, 15)\n",
            "Kamre finds the lowest marks 5 \n"
          ]
        }
      ]
    },
    {
      "cell_type": "code",
      "source": [
        "# Q14. Write a code to find the index of the element \"cat\" in the tuple ('dog', 'cat', 'rabbit')\n",
        "pets = ('dog', 'cat', 'rabbit')\n",
        "cat_index = pets.index('cat')\n",
        "print(\"Kamre's pets:\", pets)\n",
        "print(\"Kamre find her cat at index:\", cat_index)"
      ],
      "metadata": {
        "colab": {
          "base_uri": "https://localhost:8080/"
        },
        "id": "MsRJZ1sseZg_",
        "outputId": "552628d9-cb71-4a75-cd42-c045861149f5"
      },
      "execution_count": 34,
      "outputs": [
        {
          "output_type": "stream",
          "name": "stdout",
          "text": [
            "Kamre's pets: ('dog', 'cat', 'rabbit')\n",
            "Kamre find her cat at index: 1\n"
          ]
        }
      ]
    },
    {
      "cell_type": "code",
      "source": [
        "# Q15. Write a code to create a tuple containing three different fruits and check if \"kiwi\" is in it.\n",
        "fruits = ('apple', 'orange', 'grape')\n",
        "if 'kiwi' in fruits:\n",
        "  print(\"Kamre found kiwi in her basket\")\n",
        "else:\n",
        "  print(\"Kamre says: No kiwi here, only\", fruits)"
      ],
      "metadata": {
        "colab": {
          "base_uri": "https://localhost:8080/"
        },
        "id": "QJfDXQzKem2n",
        "outputId": "ddbd9e8d-c5f6-43cf-be35-8dd227f7caa6"
      },
      "execution_count": 35,
      "outputs": [
        {
          "output_type": "stream",
          "name": "stdout",
          "text": [
            "Kamre says: No kiwi here, only ('apple', 'orange', 'grape')\n"
          ]
        }
      ]
    },
    {
      "cell_type": "code",
      "source": [
        "# Q16. Write a code to create a set with the elements 'a', 'b', 'c' and print it\n",
        "letters = {'a', 'b', 'c'}\n",
        "print(\"Kamre secret letters set:\", letters)"
      ],
      "metadata": {
        "colab": {
          "base_uri": "https://localhost:8080/"
        },
        "id": "4nVu-jtUe4-2",
        "outputId": "7d44031f-f5bd-49c9-99e8-ed6c78f99985"
      },
      "execution_count": 36,
      "outputs": [
        {
          "output_type": "stream",
          "name": "stdout",
          "text": [
            "Kamre secret letters set: {'c', 'b', 'a'}\n"
          ]
        }
      ]
    },
    {
      "cell_type": "code",
      "source": [
        "# Q17. Write a code to clear all elements from the set {1, 2, 3, 4, 5}.\n",
        "magic_numbers = {1, 2, 3, 4, 5}\n",
        "magic_numbers.clear()\n",
        "print(\"Kamre's magic numbers vanished:\", magic_numbers)"
      ],
      "metadata": {
        "colab": {
          "base_uri": "https://localhost:8080/"
        },
        "id": "ZOA6-42ZfCTG",
        "outputId": "f0268b8b-3a5f-4950-c6e0-73454b0e8180"
      },
      "execution_count": 37,
      "outputs": [
        {
          "output_type": "stream",
          "name": "stdout",
          "text": [
            "Kamre's magic numbers vanished: set()\n"
          ]
        }
      ]
    },
    {
      "cell_type": "code",
      "source": [
        "# Q18. Write a code to remove the element 4 from the set {1, 2, 3, 4}.\n",
        "magic_numbers = {1, 2, 3, 4}\n",
        "magic_numbers.remove(4)  # remove element 4\n",
        "print(\"Kamre's magic numbers after removing 4:\", magic_numbers)"
      ],
      "metadata": {
        "colab": {
          "base_uri": "https://localhost:8080/"
        },
        "id": "9JnfldVcfKll",
        "outputId": "2115dcfe-1f98-4804-c036-586d9bf8ea64"
      },
      "execution_count": 38,
      "outputs": [
        {
          "output_type": "stream",
          "name": "stdout",
          "text": [
            "Kamre's magic numbers after removing 4: {1, 2, 3}\n"
          ]
        }
      ]
    },
    {
      "cell_type": "code",
      "source": [
        "# Q19. Write a code to find the union of two sets {1, 2, 3} and {3, 4, 5}\n",
        "set1 = {1, 2, 3}\n",
        "set2 = {3, 4, 5}\n",
        "all_magic = set1.union(set2)\n",
        "print(\"Kamre combines the magic numbers\", all_magic)"
      ],
      "metadata": {
        "colab": {
          "base_uri": "https://localhost:8080/"
        },
        "id": "50HpYgDqfRn9",
        "outputId": "64210daf-aa4b-440e-871f-8b8e9f75013a"
      },
      "execution_count": 39,
      "outputs": [
        {
          "output_type": "stream",
          "name": "stdout",
          "text": [
            "Kamre combines the magic numbers {1, 2, 3, 4, 5}\n"
          ]
        }
      ]
    },
    {
      "cell_type": "code",
      "source": [
        "# Q20. Write a code to find the intersection of two sets {1, 2, 3} and {2, 3, 4}\n",
        "set1 = {1, 2, 3}\n",
        "set2 = {2, 3, 4}\n",
        "common_magic = set1.intersection(set2)\n",
        "print(\"Kamre finds common magic numbers:\", common_magic)"
      ],
      "metadata": {
        "colab": {
          "base_uri": "https://localhost:8080/"
        },
        "id": "vEONESe5fVT1",
        "outputId": "168ba097-5963-4cf8-f6aa-8bb73e0facda"
      },
      "execution_count": 40,
      "outputs": [
        {
          "output_type": "stream",
          "name": "stdout",
          "text": [
            "Kamre finds common magic numbers: {2, 3}\n"
          ]
        }
      ]
    },
    {
      "cell_type": "code",
      "source": [
        "# Q21. Write a code to create a dictionary with the keys \"name\", \"age\", and \"city\", and print it\n",
        "Kamre_info = {\"name\": \"Kamre Alam\", \"age\": 27, \"city\": \"Samastipur\", \"school\": \"UMS Mow Bazar Vidyapati Nagar Samastipur\"}\n",
        "print(\"Kamre's diary info:\", Kamre_info)"
      ],
      "metadata": {
        "colab": {
          "base_uri": "https://localhost:8080/"
        },
        "id": "-ZvS7C1AfcXU",
        "outputId": "81ba0e10-5f07-4153-b997-fa62c7063eb2"
      },
      "execution_count": 42,
      "outputs": [
        {
          "output_type": "stream",
          "name": "stdout",
          "text": [
            "Kamre's diary info: {'name': 'Kamre Alam', 'age': 27, 'city': 'Samastipur', 'school': 'UMS Mow Bazar Vidyapati Nagar Samastipur'}\n"
          ]
        }
      ]
    },
    {
      "cell_type": "code",
      "source": [
        "# Q22. Write a code to add a new key-value pair \"country\": \"USA\" to the dictionary {'name': 'John', 'age': 25}\n",
        "Zafar_info = {'name': 'Zafar', 'age': 24}\n",
        "Zafar_info[\"country\"] = \"USA\"\n",
        "print(\"Kamre updated Zafar's info:\", Zafar_info)"
      ],
      "metadata": {
        "colab": {
          "base_uri": "https://localhost:8080/"
        },
        "id": "nSEXbLf9hCig",
        "outputId": "ba281b65-6ed0-4340-9e16-e7a1ecb58279"
      },
      "execution_count": 43,
      "outputs": [
        {
          "output_type": "stream",
          "name": "stdout",
          "text": [
            "Kamre updated Zafar's info: {'name': 'Zafar', 'age': 24, 'country': 'USA'}\n"
          ]
        }
      ]
    },
    {
      "cell_type": "code",
      "source": [
        "# Q23. Write a code to access the value associated with the key \"name\" in the dictionary {'name': 'Alice', 'age': 30}\n",
        "alice_info = {'name': 'Alice', 'age': 30}\n",
        "name_value = alice_info['name']\n",
        "print(\"Kamre reads the name from diary:\", name_value)"
      ],
      "metadata": {
        "colab": {
          "base_uri": "https://localhost:8080/"
        },
        "id": "bN1YgiHmiCj9",
        "outputId": "5e39fdb0-7289-4262-9709-46af045048fb"
      },
      "execution_count": 44,
      "outputs": [
        {
          "output_type": "stream",
          "name": "stdout",
          "text": [
            "Kamre reads the name from diary: Alice\n"
          ]
        }
      ]
    },
    {
      "cell_type": "code",
      "source": [
        "# Q24. Write a code to remove the key \"age\" from the dictionary {'name': 'Bob', 'age': 22, 'city': 'New York'}\n",
        "bob_info = {'name': 'Bob', 'age': 22, 'city': 'New York'}\n",
        "bob_info.pop('age')\n",
        "print(\"Kamre cleaned Bob's diary:\", bob_info)"
      ],
      "metadata": {
        "colab": {
          "base_uri": "https://localhost:8080/"
        },
        "id": "w0LoAdJUiXGN",
        "outputId": "4c2735ab-17fc-4d65-b3b5-43e273a3ae41"
      },
      "execution_count": 45,
      "outputs": [
        {
          "output_type": "stream",
          "name": "stdout",
          "text": [
            "Kamre cleaned Bob's diary: {'name': 'Bob', 'city': 'New York'}\n"
          ]
        }
      ]
    },
    {
      "cell_type": "code",
      "source": [
        "# Q25. Write a code to check if the key \"city\" exists in the dictionary {'name': 'Alice', 'city': 'Paris'}.\n",
        "alice_info = {'name': 'Alice', 'city': 'Paris'}\n",
        "if 'city' in alice_info.keys():\n",
        "  print(\"Kamre found the city key! It is:\", alice_info['city'])\n",
        "else:\n",
        "  print(\"Kamre says: No city info found!\")"
      ],
      "metadata": {
        "colab": {
          "base_uri": "https://localhost:8080/"
        },
        "id": "znWY6L-lic4E",
        "outputId": "9b07c0e3-43e5-4bc9-dcd0-5fdfa3befd7e"
      },
      "execution_count": 46,
      "outputs": [
        {
          "output_type": "stream",
          "name": "stdout",
          "text": [
            "Kamre found the city key! It is: Paris\n"
          ]
        }
      ]
    },
    {
      "cell_type": "code",
      "source": [
        "# Q26. Write a code to create a list, a tuple, and adictionary, and print them all List of toys.\n",
        "toys = ['teddy', 'ball', 'doll']\n",
        "\n",
        "# Tuple of magic potions\n",
        "potions = (10, 20, 30)\n",
        "\n",
        "# Dictionary of diary info\n",
        "diary_info = {'name': 'Kamre', 'age': 27, 'city': 'Samastipur'}\n",
        "\n",
        "print(\" Kamre's toys list:\", toys)\n",
        "print(\" Kamre's magic potions tuple:\", potions)\n",
        "print(\" Kamre's diary info dictionary:\", diary_info)"
      ],
      "metadata": {
        "colab": {
          "base_uri": "https://localhost:8080/"
        },
        "id": "is_K1DKSinyk",
        "outputId": "6bcc0e11-64aa-428e-83bc-ff235e86ad55"
      },
      "execution_count": 49,
      "outputs": [
        {
          "output_type": "stream",
          "name": "stdout",
          "text": [
            " Kamre's toys list: ['teddy', 'ball', 'doll']\n",
            " Kamre's magic potions tuple: (10, 20, 30)\n",
            " Kamre's diary info dictionary: {'name': 'Kamre', 'age': 27, 'city': 'Samastipur'}\n"
          ]
        }
      ]
    },
    {
      "cell_type": "code",
      "source": [
        "# Q27. Write a code to create a list of 5 random numbers between 1 and 100, sort it in ascending order, and print the result\n",
        "import random\n",
        "lucky_numbers = [random.randint(1,100) for i in range(5)]\n",
        "lucky_numbers.sort()\n",
        "print(\"Kamre's sorted lucky numbers:\", lucky_numbers)"
      ],
      "metadata": {
        "colab": {
          "base_uri": "https://localhost:8080/"
        },
        "id": "GqK_ovuujTyp",
        "outputId": "935432b4-414c-4283-8f6e-bbb592258d76"
      },
      "execution_count": 50,
      "outputs": [
        {
          "output_type": "stream",
          "name": "stdout",
          "text": [
            "Kamre's sorted lucky numbers: [18, 29, 32, 35, 52]\n"
          ]
        }
      ]
    },
    {
      "cell_type": "code",
      "source": [
        "# Q28. Write a code to create a list with strings and print the element at the third index.\n",
        "snacks = ['chocolate', 'cookie', 'cake', 'candy', 'gum']\n",
        "third_snack = snacks[3]\n",
        "print(\"Kamre picks the snack at third index:\", third_snack)"
      ],
      "metadata": {
        "colab": {
          "base_uri": "https://localhost:8080/"
        },
        "id": "j1aBmYC-jiIZ",
        "outputId": "e95c17c7-4d81-43ff-c454-f872a3fb9abc"
      },
      "execution_count": 51,
      "outputs": [
        {
          "output_type": "stream",
          "name": "stdout",
          "text": [
            "Kamre picks the snack at third index: candy\n"
          ]
        }
      ]
    },
    {
      "cell_type": "code",
      "source": [
        "# Q29. Write a code to combine two dictionaries into one and print the result.\n",
        "Kamre_info = {'name': 'Kamre', 'age': 27}\n",
        "friend_info = {'city': 'Samastipur', 'favorite_snack': 'peanuts'}\n",
        "\n",
        "# Combine dictionaries\n",
        "combined_info = {**Kamre_info, **friend_info}\n",
        "\n",
        "print(\" Kamre's merged diary info:\", combined_info)"
      ],
      "metadata": {
        "colab": {
          "base_uri": "https://localhost:8080/"
        },
        "id": "t5mX7U6Ajq8w",
        "outputId": "d25a8e7f-4d8c-435f-8383-7f25bd9a4597"
      },
      "execution_count": 52,
      "outputs": [
        {
          "output_type": "stream",
          "name": "stdout",
          "text": [
            " Kamre's merged diary info: {'name': 'Kamre', 'age': 27, 'city': 'Samastipur', 'favorite_snack': 'peanuts'}\n"
          ]
        }
      ]
    },
    {
      "cell_type": "code",
      "source": [
        "# Q30. Write a code to convert a list of strings into a set.\n",
        "# Ben 10 style unique aliens\n",
        "aliens = ['Four Arms', 'Heatblast', 'Feedback', 'XLR8', 'Diamondhead', 'Heatblast']\n",
        "unique_aliens = set(aliens)\n",
        "print(\"Ben 10's unique aliens ready for action:\", unique_aliens)"
      ],
      "metadata": {
        "colab": {
          "base_uri": "https://localhost:8080/"
        },
        "id": "rBxyrfWEj9E_",
        "outputId": "7ba298af-0980-4b0a-a7dc-9a278ade3266"
      },
      "execution_count": 54,
      "outputs": [
        {
          "output_type": "stream",
          "name": "stdout",
          "text": [
            "Ben 10's unique aliens ready for action: {'XLR8', 'Diamondhead', 'Four Arms', 'Heatblast', 'Feedback'}\n"
          ]
        }
      ]
    }
  ]
}